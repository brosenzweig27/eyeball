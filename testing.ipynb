{
 "cells": [
  {
   "cell_type": "code",
   "execution_count": 9,
   "metadata": {},
   "outputs": [],
   "source": [
    "import pandas as pd\n",
    "import numpy as np\n",
    "import matplotlib.pyplot as plt\n",
    "from feedback import KMeansSegmentation, VectorSegmenter, HyperplaneSegmentation\n",
    "from funcs import get_kxk_square, get_kxk_square_values, assess_square, signal_results, row_agg, hash, kmeans_step, plane_step, initialize_segmenters\n",
    "from classifiers3x3 import c0, c1, c2, c3, c4, c5, c6, c7, c8, c9, c10, c11, c12, c13\n",
    "\n",
    "# Create vector of zeros length 364, to be modified when learning starts\n",
    "kmeans_amps = np.zeros(364)\n",
    "plane_amps = np.zeros(364)\n",
    "\n",
    "test = pd.read_csv('digit-recognizer/test.csv')\n",
    "train = pd.read_csv('digit-recognizer/train.csv')\n",
    "labels = train.iloc[:, 0] \n",
    "data = train.iloc[:, 1:]  "
   ]
  },
  {
   "cell_type": "code",
   "execution_count": 124,
   "metadata": {},
   "outputs": [
    {
     "name": "stdout",
     "output_type": "stream",
     "text": [
      "[[  0   0   0   0   0]\n",
      " [  0   0   0   0   0]\n",
      " [144 173 254 148  65]\n",
      " [196 253 253 253 237]\n",
      " [  6  44  44 202 253]]\n"
     ]
    }
   ],
   "source": [
    "# Set variables for the image, kxk square size, and starting index\n",
    "k = 5\n",
    "w, h = 28, 28\n",
    "p = 98\n",
    "\n",
    "# Select an image from the dataset\n",
    "image = 1937\n",
    "\n",
    "# Get the column indeces for the kxk square, then get the specific values for the selected image\n",
    "pix = get_kxk_square(p = p, k = k)\n",
    "values_list = get_kxk_square_values(r = image, k = k, pix = pix, data = data)\n",
    "\n",
    "# Print as a little matrix\n",
    "print(values_list)\n"
   ]
  },
  {
   "cell_type": "code",
   "execution_count": 125,
   "metadata": {},
   "outputs": [
    {
     "name": "stdout",
     "output_type": "stream",
     "text": [
      "(101.0, False, True, False, True, True)\n"
     ]
    }
   ],
   "source": [
    "# Assess interesting parts of the square\n",
    "## avg_value, dark_cols, dark_rows, light_cols, light_rows, is_interesting\n",
    "signals = assess_square(values_list = values_list)\n",
    "print(signals)"
   ]
  },
  {
   "cell_type": "code",
   "execution_count": 126,
   "metadata": {},
   "outputs": [
    {
     "name": "stdout",
     "output_type": "stream",
     "text": [
      "True\n"
     ]
    }
   ],
   "source": [
    "k = len(values_list)\n",
    "avg = signals[0]\n",
    "light_threshold = avg - 40\n",
    "light_mask = values_list <= light_threshold\n",
    "\n",
    "if (np.any(np.all(light_mask[:,n+1:m+1], axis=0) for m in range(k-1) for n in range(k-1) if m > n)):\n",
    "    print(\"True\")\n",
    "else: print(\"False\")"
   ]
  },
  {
   "cell_type": "code",
   "execution_count": 129,
   "metadata": {},
   "outputs": [
    {
     "name": "stdout",
     "output_type": "stream",
     "text": [
      "[[ True  True  True  True  True]\n",
      " [ True  True  True  True  True]\n",
      " [False False False False False]\n",
      " [False False False False False]\n",
      " [ True  True  True False False]]\n",
      "---------------------------\n",
      "False\n"
     ]
    },
    {
     "name": "stderr",
     "output_type": "stream",
     "text": [
      "/var/folders/w6/j8d1_lqx5wz_zztjb28h8rkh0000gn/T/ipykernel_8482/3404266777.py:6: DeprecationWarning: The truth value of an empty array is ambiguous. Returning False, but in future this will result in an error. Use `array.size > 0` to check that an array is not empty.\n",
      "  any(np.all(light_mask[:, :n], axis=0) for n in range(2))         # Dark left\n"
     ]
    }
   ],
   "source": [
    "print(light_mask)\n",
    "print(\"---------------------------\")\n",
    "\n",
    "if (\n",
    "    (\n",
    "        any(np.all(light_mask[:, :n], axis=0) for n in range(2))         # Dark left\n",
    "        and\n",
    "        any(np.all(light_mask[:, -(n+1):], axis=0) for n in range(3))   # Dark right\n",
    "    )\n",
    "    or\n",
    "    any(np.any(np.all(light_mask[:, n+1:m+1], axis=0)) for n in range(k-1) for m in range(n+1, k))    # Light middle\n",
    "):\n",
    "    print(True)\n",
    "else: print(False)"
   ]
  },
  {
   "cell_type": "code",
   "execution_count": 4,
   "metadata": {},
   "outputs": [
    {
     "name": "stdout",
     "output_type": "stream",
     "text": [
      "Empty sensor returns: False\n",
      "Full sensor returns: False\n",
      "Left dark vbar sensor returns: False\n",
      "Right light vbar sensor returns: True\n",
      "Middle light vbar sensor returns: False\n",
      "Middle dark vbar sensor returns: False\n",
      "Left light vbar sensor returns: False\n",
      "Right dark vbar sensor returns: False\n",
      "Top dark hbar sensor returns: False\n",
      "Bottom light hbar sensor returns: True\n",
      "Middle light hbar sensor returns: False\n",
      "Middle dark hbar sensor returns: False\n",
      "Top light hbar sensor returns: False\n",
      "Bottom dark hbar sensor returns: False\n"
     ]
    }
   ],
   "source": [
    "############## Empty/Full ##############\n",
    "print(f\"Empty sensor returns: {c0(signals=signals)}\")\n",
    "print(f\"Full sensor returns: {c1(signals=signals)}\")\n",
    "############## Columns ##############\n",
    "print(f\"Left dark vbar sensor returns: {c2(values_list=values_list, signals=signals)}\")\n",
    "print(f\"Right light vbar sensor returns: {c3(values_list=values_list, signals=signals)}\")\n",
    "print(f\"Middle light vbar sensor returns: {c4(values_list=values_list, signals=signals)}\")\n",
    "print(f\"Middle dark vbar sensor returns: {c5(values_list=values_list, signals=signals)}\")\n",
    "print(f\"Left light vbar sensor returns: {c6(values_list=values_list, signals=signals)}\")\n",
    "print(f\"Right dark vbar sensor returns: {c7(values_list=values_list, signals=signals)}\")\n",
    "############## Rows ##############\n",
    "print(f\"Top dark hbar sensor returns: {c8(values_list=values_list, signals=signals)}\")\n",
    "print(f\"Bottom light hbar sensor returns: {c9(values_list=values_list, signals=signals)}\")\n",
    "print(f\"Middle light hbar sensor returns: {c10(values_list=values_list, signals=signals)}\")\n",
    "print(f\"Middle dark hbar sensor returns: {c11(values_list=values_list, signals=signals)}\")\n",
    "print(f\"Top light hbar sensor returns: {c12(values_list=values_list, signals=signals)}\")\n",
    "print(f\"Bottom dark hbar sensor returns: {c13(values_list=values_list, signals=signals)}\")"
   ]
  },
  {
   "cell_type": "code",
   "execution_count": 42,
   "metadata": {},
   "outputs": [
    {
     "name": "stdout",
     "output_type": "stream",
     "text": [
      "[7, 8, 9, 10, 11, 12]\n",
      "7 7\n"
     ]
    }
   ],
   "source": [
    "k = 14\n",
    "kleft = np.floor(k/2).astype(int)\n",
    "kright = np.ceil(k/2).astype(int)\n",
    "print([kleft+n for n in range(kright-1)])\n",
    "print(kleft, kright)"
   ]
  },
  {
   "cell_type": "code",
   "execution_count": 70,
   "metadata": {},
   "outputs": [
    {
     "name": "stdout",
     "output_type": "stream",
     "text": [
      "[0, 1, 2, 3, 4, 5, 6, 7, 8, 9, 10, 11] \n",
      "---------------------\n",
      "[1]\n",
      "[1, 2]\n",
      "[1, 2, 3]\n",
      "[1, 2, 3, 4]\n",
      "[1, 2, 3, 4, 5]\n",
      "[1, 2, 3, 4, 5, 6]\n",
      "[1, 2, 3, 4, 5, 6, 7]\n",
      "[1, 2, 3, 4, 5, 6, 7, 8]\n",
      "[1, 2, 3, 4, 5, 6, 7, 8, 9]\n",
      "[1, 2, 3, 4, 5, 6, 7, 8, 9, 10]\n",
      "[2]\n",
      "[2, 3]\n",
      "[2, 3, 4]\n",
      "[2, 3, 4, 5]\n",
      "[2, 3, 4, 5, 6]\n",
      "[2, 3, 4, 5, 6, 7]\n",
      "[2, 3, 4, 5, 6, 7, 8]\n",
      "[2, 3, 4, 5, 6, 7, 8, 9]\n",
      "[2, 3, 4, 5, 6, 7, 8, 9, 10]\n",
      "[3]\n",
      "[3, 4]\n",
      "[3, 4, 5]\n",
      "[3, 4, 5, 6]\n",
      "[3, 4, 5, 6, 7]\n",
      "[3, 4, 5, 6, 7, 8]\n",
      "[3, 4, 5, 6, 7, 8, 9]\n",
      "[3, 4, 5, 6, 7, 8, 9, 10]\n",
      "[4]\n",
      "[4, 5]\n",
      "[4, 5, 6]\n",
      "[4, 5, 6, 7]\n",
      "[4, 5, 6, 7, 8]\n",
      "[4, 5, 6, 7, 8, 9]\n",
      "[4, 5, 6, 7, 8, 9, 10]\n",
      "[5]\n",
      "[5, 6]\n",
      "[5, 6, 7]\n",
      "[5, 6, 7, 8]\n",
      "[5, 6, 7, 8, 9]\n",
      "[5, 6, 7, 8, 9, 10]\n",
      "[6]\n",
      "[6, 7]\n",
      "[6, 7, 8]\n",
      "[6, 7, 8, 9]\n",
      "[6, 7, 8, 9, 10]\n",
      "[7]\n",
      "[7, 8]\n",
      "[7, 8, 9]\n",
      "[7, 8, 9, 10]\n",
      "[8]\n",
      "[8, 9]\n",
      "[8, 9, 10]\n",
      "[9]\n",
      "[9, 10]\n",
      "[10]\n"
     ]
    }
   ],
   "source": [
    "k = 12\n",
    "v = [k for k in range(k)]\n",
    "print(v, '\\n---------------------')\n",
    "for n in range(k-1):\n",
    "    for m in range(k-1):\n",
    "        if m>n:\n",
    "            print(v[n+1:m+1])"
   ]
  },
  {
   "cell_type": "code",
   "execution_count": 5,
   "metadata": {},
   "outputs": [],
   "source": [
    "n = 784\n",
    "image = 1937\n",
    "\n",
    "binary_matrix = signal_results(values_list=values_list, data=data, image=image)\n",
    "# print(binary_matrix)"
   ]
  },
  {
   "cell_type": "code",
   "execution_count": 6,
   "metadata": {},
   "outputs": [],
   "source": [
    "result_vector = row_agg(binary_matrix=binary_matrix)\n",
    "# print(\"Result vector:\", result_vector)\n",
    "# print(len(result_vector))"
   ]
  },
  {
   "cell_type": "code",
   "execution_count": 7,
   "metadata": {},
   "outputs": [],
   "source": [
    "kmeans_output = result_vector + kmeans_amps\n",
    "plane_output = result_vector + plane_amps\n",
    "# print(output)\n",
    "# print(len(output))"
   ]
  },
  {
   "cell_type": "code",
   "execution_count": 8,
   "metadata": {},
   "outputs": [],
   "source": [
    "kmeans_segmenter, plane_segmenter = initialize_segmenters(num_sections=11, len=364)"
   ]
  },
  {
   "cell_type": "code",
   "execution_count": null,
   "metadata": {},
   "outputs": [],
   "source": []
  }
 ],
 "metadata": {
  "kernelspec": {
   "display_name": "littleguy",
   "language": "python",
   "name": "python3"
  },
  "language_info": {
   "codemirror_mode": {
    "name": "ipython",
    "version": 3
   },
   "file_extension": ".py",
   "mimetype": "text/x-python",
   "name": "python",
   "nbconvert_exporter": "python",
   "pygments_lexer": "ipython3",
   "version": "3.11.7"
  }
 },
 "nbformat": 4,
 "nbformat_minor": 2
}
