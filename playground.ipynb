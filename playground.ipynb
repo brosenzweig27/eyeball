{
 "cells": [
  {
   "cell_type": "code",
   "execution_count": 4,
   "metadata": {},
   "outputs": [],
   "source": [
    "import pandas as pd\n",
    "import numpy as np\n",
    "import matplotlib.pyplot as plt\n",
    "from functions.feedback import KMeansSegmentation, VectorSegmenter, HyperplaneSegmentation\n",
    "from functions.funcs import get_kxk_square, get_kxk_square_values, assess_square, signal_results, row_agg, kmeans_step, plane_step, initialize_segmenters\n",
    "from functions.classifiers3x3 import c0, c1, c2, c3, c4, c5, c6, c7, c8, c9, c10, c11, c12, c13\n",
    "from functions.classifierskxk import bars\n",
    "\n",
    "# Create vector of zeros length 364, to be modified when learning starts\n",
    "kmeans_amps = np.zeros(364)\n",
    "plane_amps = np.zeros(364)\n",
    "\n",
    "test = pd.read_csv('digit-recognizer/test.csv')\n",
    "train = pd.read_csv('digit-recognizer/train.csv')\n",
    "labels = train.iloc[:, 0] \n",
    "data = train.iloc[:, 1:]  "
   ]
  },
  {
   "cell_type": "code",
   "execution_count": 5,
   "metadata": {},
   "outputs": [
    {
     "name": "stdout",
     "output_type": "stream",
     "text": [
      "[[  0   0   0   0   0]\n",
      " [  0   0   0   0   0]\n",
      " [144 173 254 148  65]\n",
      " [196 253 253 253 237]\n",
      " [  6  44  44 202 253]]\n"
     ]
    }
   ],
   "source": [
    "# Set variables for the image, kxk square size, and starting index\n",
    "k = 5\n",
    "w, h = 28, 28\n",
    "p = 98\n",
    "\n",
    "# Select an image from the dataset\n",
    "image = 1937\n",
    "\n",
    "# Get the column indeces for the kxk square, then get the specific values for the selected image\n",
    "pix = get_kxk_square(p = p, k = k)\n",
    "values_list = get_kxk_square_values(r = image, k = k, pix = pix, data = data)\n",
    "\n",
    "# Print as a little matrix\n",
    "print(values_list)\n"
   ]
  },
  {
   "cell_type": "code",
   "execution_count": 6,
   "metadata": {},
   "outputs": [
    {
     "name": "stdout",
     "output_type": "stream",
     "text": [
      "(101.0, False, True, False, True, True)\n",
      "['c12']\n"
     ]
    }
   ],
   "source": [
    "# Assess interesting parts of the square\n",
    "## avg_value, dark_cols, dark_rows, light_cols, light_rows, is_interesting\n",
    "signals = assess_square(values_list = values_list)\n",
    "print(signals)\n",
    "\n",
    "classifications = bars(signals=signals, values_list=values_list)\n",
    "print(classifications)"
   ]
  },
  {
   "cell_type": "code",
   "execution_count": 8,
   "metadata": {},
   "outputs": [
    {
     "name": "stdout",
     "output_type": "stream",
     "text": [
      "[[ True  True  True  True  True]\n",
      " [ True  True  True  True  True]\n",
      " [False False False  True  True]\n",
      " [False False False False  True]\n",
      " [False False False False  True]]\n",
      "[False, False]\n"
     ]
    }
   ],
   "source": [
    "k = len(values_list)\n",
    "nleft = np.floor(k / 2).astype(int)\n",
    "nright = np.ceil(k / 2).astype(int)\n",
    "\n",
    "avg = signals[0]\n",
    "dark_cols = signals[1]\n",
    "dark_rows = signals[2]\n",
    "light_cols = signals[3]\n",
    "light_rows = signals[4]\n",
    "is_interesting = signals[5]\n",
    "\n",
    "dark_threshold = avg + 40\n",
    "light_threshold = avg - 40\n",
    "dark_mask = values_list >= dark_threshold\n",
    "light_mask = values_list <= light_threshold\n",
    "\n",
    "print(light_mask)\n",
    "\n",
    "# any(np.all(r) for r in [light_mask[:nleft+n,:].tolist() for n in range(nright-1)])\n",
    "print([np.all(r) for r in [light_mask[:nleft+n+1,:].tolist() for n in range(nright-1)]])"
   ]
  },
  {
   "cell_type": "code",
   "execution_count": 6,
   "metadata": {},
   "outputs": [
    {
     "name": "stdout",
     "output_type": "stream",
     "text": [
      "Empty sensor returns: False\n",
      "Full sensor returns: False\n",
      "Left dark vbar sensor returns: False\n",
      "Right light vbar sensor returns: False\n",
      "Middle light vbar sensor returns: False\n",
      "Middle dark vbar sensor returns: False\n",
      "Left light vbar sensor returns: False\n",
      "Right dark vbar sensor returns: False\n",
      "Top dark hbar sensor returns: False\n",
      "Bottom light hbar sensor returns: False\n",
      "Middle light hbar sensor returns: False\n",
      "Middle dark hbar sensor returns: False\n",
      "Top light hbar sensor returns: False\n",
      "Bottom dark hbar sensor returns: True\n"
     ]
    }
   ],
   "source": [
    "# 3x3 Assessment\n",
    "\n",
    "############## Empty/Full ##############\n",
    "print(f\"Empty sensor returns: {c0(signals=signals)}\")\n",
    "print(f\"Full sensor returns: {c1(signals=signals)}\")\n",
    "############## Columns ##############\n",
    "print(f\"Left dark vbar sensor returns: {c2(values_list=values_list, signals=signals)}\")\n",
    "print(f\"Right light vbar sensor returns: {c3(values_list=values_list, signals=signals)}\")\n",
    "print(f\"Middle light vbar sensor returns: {c4(values_list=values_list, signals=signals)}\")\n",
    "print(f\"Middle dark vbar sensor returns: {c5(values_list=values_list, signals=signals)}\")\n",
    "print(f\"Left light vbar sensor returns: {c6(values_list=values_list, signals=signals)}\")\n",
    "print(f\"Right dark vbar sensor returns: {c7(values_list=values_list, signals=signals)}\")\n",
    "############## Rows ##############\n",
    "print(f\"Top dark hbar sensor returns: {c8(values_list=values_list, signals=signals)}\")\n",
    "print(f\"Bottom light hbar sensor returns: {c9(values_list=values_list, signals=signals)}\")\n",
    "print(f\"Middle light hbar sensor returns: {c10(values_list=values_list, signals=signals)}\")\n",
    "print(f\"Middle dark hbar sensor returns: {c11(values_list=values_list, signals=signals)}\")\n",
    "print(f\"Top light hbar sensor returns: {c12(values_list=values_list, signals=signals)}\")\n",
    "print(f\"Bottom dark hbar sensor returns: {c13(values_list=values_list, signals=signals)}\")"
   ]
  },
  {
   "cell_type": "code",
   "execution_count": 7,
   "metadata": {},
   "outputs": [
    {
     "name": "stdout",
     "output_type": "stream",
     "text": [
      "['c12']\n"
     ]
    }
   ],
   "source": [
    "# 5x5 assessment\n",
    "classifications = bars(signals=signals, values_list=values_list)\n",
    "print(classifications) "
   ]
  },
  {
   "cell_type": "code",
   "execution_count": 5,
   "metadata": {},
   "outputs": [],
   "source": [
    "n = 784\n",
    "image = 1937\n",
    "\n",
    "binary_matrix = signal_results(values_list=values_list, data=data, image=image)\n",
    "# print(binary_matrix)"
   ]
  },
  {
   "cell_type": "code",
   "execution_count": 6,
   "metadata": {},
   "outputs": [],
   "source": [
    "result_vector = row_agg(binary_matrix=binary_matrix)\n",
    "# print(\"Result vector:\", result_vector)\n",
    "# print(len(result_vector))"
   ]
  },
  {
   "cell_type": "code",
   "execution_count": 7,
   "metadata": {},
   "outputs": [],
   "source": [
    "kmeans_output = result_vector + kmeans_amps\n",
    "plane_output = result_vector + plane_amps\n",
    "# print(output)\n",
    "# print(len(output))"
   ]
  },
  {
   "cell_type": "code",
   "execution_count": 8,
   "metadata": {},
   "outputs": [],
   "source": [
    "kmeans_segmenter, plane_segmenter = initialize_segmenters(num_sections=11, len=364)"
   ]
  },
  {
   "cell_type": "code",
   "execution_count": null,
   "metadata": {},
   "outputs": [],
   "source": []
  }
 ],
 "metadata": {
  "kernelspec": {
   "display_name": "littleguy",
   "language": "python",
   "name": "python3"
  },
  "language_info": {
   "codemirror_mode": {
    "name": "ipython",
    "version": 3
   },
   "file_extension": ".py",
   "mimetype": "text/x-python",
   "name": "python",
   "nbconvert_exporter": "python",
   "pygments_lexer": "ipython3",
   "version": "3.11.7"
  }
 },
 "nbformat": 4,
 "nbformat_minor": 2
}
